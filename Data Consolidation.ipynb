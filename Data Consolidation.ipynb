{
 "cells": [
  {
   "cell_type": "markdown",
   "metadata": {},
   "source": [
    "## CAPSTONE PROJECT DATA CONSOLIDATION\n",
    "## AUTHOR: Simon Lee\n",
    "## DATE CREATED: May 16 2022\n",
    "## LAST DATE ADJUSTED: June 15th 2022"
   ]
  },
  {
   "cell_type": "markdown",
   "metadata": {},
   "source": [
    "Downloading Packages"
   ]
  },
  {
   "cell_type": "code",
   "execution_count": 7,
   "metadata": {},
   "outputs": [],
   "source": [
    "import pandas as pd\n",
    "import csv as csv\n",
    "import os as os"
   ]
  },
  {
   "cell_type": "markdown",
   "metadata": {},
   "source": [
    "# CONSOLIDATING ALL MATCH INFO"
   ]
  },
  {
   "cell_type": "code",
   "execution_count": 8,
   "metadata": {},
   "outputs": [],
   "source": [
    "# CONSOLIDATING ALL THE MATCH INFO\n",
    "\n",
    "f =  open(\"/Users/simonlee/Desktop/Capstone/Match_Info.csv\", \"w\")\n",
    "writer = csv.writer(f)\n",
    "columns = ['ID', 'Home Team', 'Away Team',  'Date', 'Venue', 'City', 'Toss Winner', 'Toss Decision', 'Winner', 'Win By']\n",
    "writer.writerow(columns)\n",
    "big_folder = r\"/Users/simonlee/Desktop/Capstone/Data\"\n",
    "\n",
    "for y in os.listdir(big_folder):\n",
    "    if \".\" not in y:\n",
    "        folder = big_folder + \"/\" + y\n",
    "    \n",
    "    \n",
    "        for x in os.listdir(folder):\n",
    "            if \"csv\" in x:\n",
    "                file_name = folder + \"/\" + x\n",
    "                read = open(file_name)\n",
    "                reader_obj = csv.reader(read)\n",
    "                data = [y + x]\n",
    "                i = 1\n",
    "                for row in reader_obj:  \n",
    "                    if i == 3 or i == 4 :\n",
    "                        data.append(row[2])\n",
    "                        i = i + 1  \n",
    "                    elif row[0] == \"info\" and row[1] != \"player\" and row [1] == \"date\":\n",
    "                        data.append(row[2])\n",
    "                        i = i + 1  \n",
    "                    elif row[0] == \"info\" and row[1] != \"player\" and row [1] == \"venue\":\n",
    "                        data.append(row[2])\n",
    "                        i = i + 1  \n",
    "                    elif row[0] == \"info\" and row[1] != \"player\" and row [1] == \"city\":\n",
    "                        data.append(row[2])\n",
    "                        i = i + 1  \n",
    "                    elif row[0] == \"info\" and row[1] != \"player\" and row [1] == \"toss_winner\":\n",
    "                        data.append(row[2])\n",
    "                        i = i + 1  \n",
    "                    elif row[0] == \"info\" and row[1] != \"player\" and row [1] == \"toss_decision\":\n",
    "                        data.append(row[2])\n",
    "                        i = i + 1  \n",
    "                    elif row[0] == \"info\" and row[1] != \"player\" and row [1] == \"winner\":\n",
    "                        data.append(row[2])\n",
    "                        i = i + 1  \n",
    "                    elif row[0] == \"info\" and row[1] != \"player\" and row [1] == \"winner_runs\" :\n",
    "                        data.append(str(row[2]) + \" runs\")\n",
    "                        i = i + 1\n",
    "                    elif row[0] == \"info\" and row[1] != \"player\" and row [1] == \"winner_wickets\" :\n",
    "                        data.append(str(row[2]) + \" wickets\")\n",
    "                        i = i + 1                  \n",
    "                    else:\n",
    "                        i = i + 1\n",
    "\n",
    "\n",
    "                writer.writerow(data)\n",
    "    \n",
    "\n",
    "                f.close"
   ]
  },
  {
   "cell_type": "markdown",
   "metadata": {},
   "source": [
    "## CONSOLIDATING ALL BALL INFO"
   ]
  },
  {
   "cell_type": "code",
   "execution_count": 9,
   "metadata": {},
   "outputs": [
    {
     "data": {
      "text/plain": [
       "<function TextIOWrapper.close()>"
      ]
     },
     "execution_count": 9,
     "metadata": {},
     "output_type": "execute_result"
    }
   ],
   "source": [
    "# CONSOLIDATING ALL THE MBALL BY BALL DATA\n",
    "\n",
    "f =  open(\"/Users/simonlee/Desktop/Capstone/Ball by Ball Data.csv\", \"w\")\n",
    "writer = csv.writer(f)\n",
    "columns = ['Match ID', 'Ball', 'Batting Team',  'Striker', 'Striker ID', 'Non_Striker', 'Non_Striker ID', 'Bowler', 'Bowler ID', 'Runs', 'Extras', 'Wicket', 'How_out', 'Batsman Out']\n",
    "writer.writerow(columns)\n",
    "big_folder = r\"/Users/simonlee/Desktop/Capstone/Data\"\n",
    "\n",
    "for y in os.listdir(big_folder):\n",
    "    if \".\" not in y:\n",
    "        folder = big_folder + \"/\" + y\n",
    "    \n",
    "    \n",
    "        for x in os.listdir(folder):\n",
    "            if \"csv\" in x:\n",
    "                read = open(folder + \"/\" + x)\n",
    "                reader_obj = csv.reader(read)\n",
    "                players = {}\n",
    "                for row in reader_obj: \n",
    "                    data = [y + x] \n",
    "                    if row[1] == \"registry\":\n",
    "                        players[row[3]] = row[4]\n",
    "                    elif row[0] == \"ball\":\n",
    "                        data.append(row[2])\n",
    "                        data.append(row[3])\n",
    "                        data.append(row[4])\n",
    "                        data.append(players[row[4]])\n",
    "                        data.append(row[5])\n",
    "                        data.append(players[row[5]])\n",
    "                        data.append(row[6])\n",
    "                        data.append(players[row[6]])\n",
    "                        data.append(row[7])\n",
    "                        data.append(row[8])\n",
    "                        if row[14] != \"\":\n",
    "                            data.append(1)\n",
    "                            data.append(row[14])\n",
    "                            data.append(row[15])\n",
    "                            \n",
    "                        else:\n",
    "                            data.append(0)\n",
    "                        \n",
    "                        writer.writerow(data) \n",
    "\n",
    "f.close\n",
    "\n",
    "\n",
    "\n"
   ]
  },
  {
   "cell_type": "code",
   "execution_count": 150,
   "metadata": {},
   "outputs": [],
   "source": [
    "## Replacing incosistent names in match files\n",
    "\n",
    "big_folder = r\"/Users/simonlee/Desktop/Capstone/Data\"\n",
    "for y in os.listdir(big_folder):\n",
    "    if \".\" not in y:\n",
    "        folder = big_folder + \"/\" + y\n",
    "    \n",
    "    \n",
    "        for x in os.listdir(folder):\n",
    "            if \"csv\" in x:\n",
    "                text = open(folder + \"/\" + x, \"r\")\n",
    "                text = ''.join([i for i in text]) \\\n",
    "                    .replace(\"Daniel Smith\", \"D Smith\")\n",
    "                x = open(folder + \"/\" + x, \"w\")\n",
    "                x.writelines(text)\n",
    "                x.close()"
   ]
  },
  {
   "cell_type": "code",
   "execution_count": 62,
   "metadata": {},
   "outputs": [],
   "source": [
    "## Removing any file without a registry because there are no player IDs\n",
    "\n",
    "big_folder = r\"/Users/simonlee/Desktop/Capstone/Data\"\n",
    "\n",
    "for y in os.listdir(big_folder):\n",
    "    if \".\" not in y:\n",
    "        folder = big_folder + \"/\" + y\n",
    "    \n",
    "    \n",
    "        for x in os.listdir(folder):\n",
    "            if \"csv\" in x:\n",
    "                read = open(folder + \"/\" + x)\n",
    "                reader_obj = csv.reader(read)\n",
    "                check = []\n",
    "                for row in reader_obj: \n",
    "                    \n",
    "                    if row[1] == \"registry\":\n",
    "                        check.append(1)\n",
    "                    else:\n",
    "                        check.append(0)\n",
    "                if sum(check) == 0:\n",
    "                    #os.remove(folder + \"/\" + x)"
   ]
  },
  {
   "cell_type": "code",
   "execution_count": null,
   "metadata": {},
   "outputs": [],
   "source": []
  },
  {
   "cell_type": "code",
   "execution_count": null,
   "metadata": {},
   "outputs": [],
   "source": []
  },
  {
   "cell_type": "code",
   "execution_count": null,
   "metadata": {},
   "outputs": [],
   "source": []
  },
  {
   "cell_type": "code",
   "execution_count": null,
   "metadata": {},
   "outputs": [],
   "source": []
  },
  {
   "cell_type": "code",
   "execution_count": null,
   "metadata": {},
   "outputs": [],
   "source": []
  },
  {
   "cell_type": "code",
   "execution_count": null,
   "metadata": {},
   "outputs": [],
   "source": []
  },
  {
   "cell_type": "code",
   "execution_count": null,
   "metadata": {},
   "outputs": [],
   "source": []
  },
  {
   "cell_type": "code",
   "execution_count": null,
   "metadata": {},
   "outputs": [],
   "source": []
  }
 ],
 "metadata": {
  "interpreter": {
   "hash": "358ac98aa52ea4466d7473ad96cfdfa51bad2f562409a00281e6acbb4f883285"
  },
  "kernelspec": {
   "display_name": "Python 3.8.3 64-bit ('base': conda)",
   "name": "python3"
  },
  "language_info": {
   "codemirror_mode": {
    "name": "ipython",
    "version": 3
   },
   "file_extension": ".py",
   "mimetype": "text/x-python",
   "name": "python",
   "nbconvert_exporter": "python",
   "pygments_lexer": "ipython3",
   "version": "3.8.3"
  }
 },
 "nbformat": 4,
 "nbformat_minor": 4
}
