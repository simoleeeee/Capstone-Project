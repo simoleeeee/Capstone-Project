{
 "cells": [
  {
   "cell_type": "markdown",
   "metadata": {},
   "source": [
    "## CAPSTONE PROJECT MODELING COMPOSITIONS\n",
    "## AUTHOR: Simon Lee\n",
    "## DATE CREATED: JULY 27th 2022\n",
    "## LAST DATE ADJUSTED: AUG 15th 2022"
   ]
  },
  {
   "cell_type": "code",
   "execution_count": 667,
   "metadata": {},
   "outputs": [],
   "source": [
    "## Importing all packages that may be needed\n",
    "\n",
    "from __future__ import print_function\n",
    "import subprocess\n",
    "import pandas as pd\n",
    "import numpy as np\n",
    "from sklearn import tree\n",
    "from sklearn.model_selection import train_test_split\n",
    "import sklearn.metrics as sm\n",
    "from sklearn.pipeline import Pipeline\n",
    "from sklearn.preprocessing import StandardScaler, PowerTransformer, QuantileTransformer, LabelEncoder\n",
    "from sklearn import decomposition\n",
    "from sklearn.model_selection import GridSearchCV\n",
    "from sklearn.ensemble import RandomForestClassifier, ExtraTreesClassifier\n",
    "from sklearn.metrics import confusion_matrix\n",
    "from sklearn.neighbors import KNeighborsClassifier\n",
    "from sklearn import svm\n"
   ]
  },
  {
   "cell_type": "code",
   "execution_count": 48,
   "metadata": {},
   "outputs": [
    {
     "data": {
      "text/html": [
       "<div>\n",
       "<style scoped>\n",
       "    .dataframe tbody tr th:only-of-type {\n",
       "        vertical-align: middle;\n",
       "    }\n",
       "\n",
       "    .dataframe tbody tr th {\n",
       "        vertical-align: top;\n",
       "    }\n",
       "\n",
       "    .dataframe thead th {\n",
       "        text-align: right;\n",
       "    }\n",
       "</style>\n",
       "<table border=\"1\" class=\"dataframe\">\n",
       "  <thead>\n",
       "    <tr style=\"text-align: right;\">\n",
       "      <th></th>\n",
       "      <th>H Left hand Bat</th>\n",
       "      <th>A Left hand Bat</th>\n",
       "      <th>H NoBat</th>\n",
       "      <th>A NoBat</th>\n",
       "      <th>H Right hand Bat</th>\n",
       "      <th>A Right hand Bat</th>\n",
       "      <th>City</th>\n",
       "      <th>H Left Arm Wrist Spinner</th>\n",
       "      <th>A Left Arm Wrist Spinner</th>\n",
       "      <th>H Right Arm Spinner</th>\n",
       "      <th>...</th>\n",
       "      <th>A Batting Allrounder</th>\n",
       "      <th>H Batter</th>\n",
       "      <th>A Batter</th>\n",
       "      <th>H Middle order Batter</th>\n",
       "      <th>A Middle order Batter</th>\n",
       "      <th>H Opening Batter</th>\n",
       "      <th>A Opening Batter</th>\n",
       "      <th>H Bowler</th>\n",
       "      <th>A Bowler</th>\n",
       "      <th>Result</th>\n",
       "    </tr>\n",
       "  </thead>\n",
       "  <tbody>\n",
       "    <tr>\n",
       "      <th>0</th>\n",
       "      <td>5</td>\n",
       "      <td>2</td>\n",
       "      <td>0</td>\n",
       "      <td>0</td>\n",
       "      <td>6</td>\n",
       "      <td>9</td>\n",
       "      <td>Perth</td>\n",
       "      <td>1</td>\n",
       "      <td>0</td>\n",
       "      <td>1</td>\n",
       "      <td>...</td>\n",
       "      <td>0</td>\n",
       "      <td>1</td>\n",
       "      <td>1</td>\n",
       "      <td>0</td>\n",
       "      <td>2</td>\n",
       "      <td>1</td>\n",
       "      <td>1</td>\n",
       "      <td>2</td>\n",
       "      <td>4</td>\n",
       "      <td>0</td>\n",
       "    </tr>\n",
       "    <tr>\n",
       "      <th>1</th>\n",
       "      <td>6</td>\n",
       "      <td>2</td>\n",
       "      <td>0</td>\n",
       "      <td>0</td>\n",
       "      <td>5</td>\n",
       "      <td>9</td>\n",
       "      <td>Perth</td>\n",
       "      <td>1</td>\n",
       "      <td>0</td>\n",
       "      <td>2</td>\n",
       "      <td>...</td>\n",
       "      <td>0</td>\n",
       "      <td>1</td>\n",
       "      <td>1</td>\n",
       "      <td>1</td>\n",
       "      <td>2</td>\n",
       "      <td>2</td>\n",
       "      <td>0</td>\n",
       "      <td>4</td>\n",
       "      <td>5</td>\n",
       "      <td>1</td>\n",
       "    </tr>\n",
       "  </tbody>\n",
       "</table>\n",
       "<p>2 rows × 40 columns</p>\n",
       "</div>"
      ],
      "text/plain": [
       "   H Left hand Bat  A Left hand Bat  H NoBat  A NoBat  H Right hand Bat  \\\n",
       "0                5                2        0        0                 6   \n",
       "1                6                2        0        0                 5   \n",
       "\n",
       "   A Right hand Bat   City  H Left Arm Wrist Spinner  \\\n",
       "0                 9  Perth                         1   \n",
       "1                 9  Perth                         1   \n",
       "\n",
       "   A Left Arm Wrist Spinner  H Right Arm Spinner  ...  A Batting Allrounder  \\\n",
       "0                         0                    1  ...                     0   \n",
       "1                         0                    2  ...                     0   \n",
       "\n",
       "   H Batter  A Batter  H Middle order Batter  A Middle order Batter  \\\n",
       "0         1         1                      0                      2   \n",
       "1         1         1                      1                      2   \n",
       "\n",
       "   H Opening Batter  A Opening Batter  H Bowler  A Bowler  Result  \n",
       "0                 1                 1         2         4       0  \n",
       "1                 2                 0         4         5       1  \n",
       "\n",
       "[2 rows x 40 columns]"
      ]
     },
     "execution_count": 48,
     "metadata": {},
     "output_type": "execute_result"
    }
   ],
   "source": [
    "#comps = pd.read_csv(r\"/Users/simonlee/Downloads/MatchComposition.csv\")\n",
    "comps = pd.read_csv(r\"/Users/simonlee/Desktop/Capstone/Team Composition Final.csv\")\n",
    "city = pd.read_excel(r\"/Users/simonlee/Desktop/Capstone/city_and_Category.xlsx\")\n",
    "comps = comps.reset_index(drop=True)\n",
    "comps.head(2)"
   ]
  },
  {
   "cell_type": "code",
   "execution_count": 49,
   "metadata": {},
   "outputs": [],
   "source": [
    "comps = comps.merge(city, how = 'left', left_on = \"City\", right_on = \"City\")\n",
    "comps = comps.drop([\"City\"], axis = 1)\n",
    "\n",
    "#Removing all matches played in Non-Traditional Cricketing teritories to remove substandard matches as best as possible (ex. matches played in Spain)\n",
    "comps = comps[comps[\"Country\"] != \"Other\"]\n",
    "\n",
    "#Getting Countires to a numeric categorical variable\n",
    "le = LabelEncoder()\n",
    "comps[\"Country\"] = le.fit_transform(comps[\"Country\"])\n",
    "\n",
    "#Only want wins and losses as results\n",
    "comps = comps[(comps[\"Result\"] == 0) | (comps[\"Result\"] == 1)]"
   ]
  },
  {
   "cell_type": "code",
   "execution_count": 665,
   "metadata": {},
   "outputs": [
    {
     "data": {
      "text/plain": [
       "array(['Australia', 'England', 'NZ', 'SA', 'Sub-Cont', 'UK', 'WI', 'Zimb'],\n",
       "      dtype=object)"
      ]
     },
     "execution_count": 665,
     "metadata": {},
     "output_type": "execute_result"
    }
   ],
   "source": [
    "le.classes_"
   ]
  },
  {
   "cell_type": "code",
   "execution_count": 40,
   "metadata": {},
   "outputs": [
    {
     "data": {
      "text/plain": [
       "['H Top order Batter',\n",
       " 'A Top order Batter',\n",
       " 'H Bowling Allrounder',\n",
       " 'A Bowling Allrounder',\n",
       " 'H Wicketkeeper',\n",
       " 'A Wicketkeeper',\n",
       " 'H Allrounder',\n",
       " 'A Allrounder',\n",
       " 'H Batting Allrounder',\n",
       " 'A Batting Allrounder',\n",
       " 'H Batter',\n",
       " 'A Batter',\n",
       " 'H Middle order Batter',\n",
       " 'A Middle order Batter',\n",
       " 'H Opening Batter',\n",
       " 'A Opening Batter',\n",
       " 'H Bowler',\n",
       " 'A Bowler',\n",
       " 'Country']"
      ]
     },
     "execution_count": 40,
     "metadata": {},
     "output_type": "execute_result"
    }
   ],
   "source": [
    "list(comps.columns[:18]) + [\"Country\"]\n",
    "#list(comps.columns[:18]) "
   ]
  },
  {
   "cell_type": "markdown",
   "metadata": {},
   "source": [
    "## Splitting Data 80:20"
   ]
  },
  {
   "cell_type": "code",
   "execution_count": null,
   "metadata": {},
   "outputs": [],
   "source": [
    "feats = list(comps.columns[:38]) + [\"Country\"]\n",
    "#y = comps[\"win\"]\n",
    "y = comps[\"Result\"]\n",
    "x = comps[feats]\n",
    "x_train, x_test, y_train, y_test = train_test_split(x, y, test_size = 0.2, stratify = y)\n"
   ]
  },
  {
   "cell_type": "markdown",
   "metadata": {},
   "source": [
    "### ONCE MODEL WAS TRAINED ALL THE SPLIT DATA WAS WRITTEN INTO HARD CSV FILES FOR FUTURE REFERENCE (WHETHER GRADING OR STUDENT USE)\n",
    "\n",
    "* HERE I AM RELOADING IT"
   ]
  },
  {
   "cell_type": "code",
   "execution_count": 666,
   "metadata": {},
   "outputs": [],
   "source": [
    "x_train = pd.read_csv(r\"/Users/simonlee/Desktop/Capstone/Model Data/x_train.csv\")\n",
    "y_train = pd.read_csv(r\"/Users/simonlee/Desktop/Capstone/Model Data/y_train.csv\")\n",
    "x_test = pd.read_csv(r\"/Users/simonlee/Desktop/Capstone/Model Data/x_test.csv\")\n",
    "y_test = pd.read_csv(r\"/Users/simonlee/Desktop/Capstone/Model Data/y_test.csv\")"
   ]
  },
  {
   "cell_type": "markdown",
   "metadata": {},
   "source": [
    "## USING GRID SEARCH TO GET BEST PARAMETERS IN MODEL"
   ]
  },
  {
   "cell_type": "code",
   "execution_count": null,
   "metadata": {},
   "outputs": [],
   "source": [
    "\n",
    "rf = RandomForestClassifier()\n",
    "sc = StandardScaler()\n",
    "pca = decomposition.PCA()\n",
    "dt = tree.DecisionTreeClassifier()\n",
    "et = ExtraTreesClassifier()\n",
    "power = PowerTransformer()\n",
    "quant = QuantileTransformer()\n",
    "\n",
    "pipe = Pipeline(steps=[ ('power', power), ('dec_tree', et)])\n",
    "\n",
    "\n",
    "#Grid Parameters\n",
    "param_dist = {\n",
    "    \"dec_tree__criterion\": [\"gini\", \"entropy\"],\n",
    "    \"dec_tree__ccp_alpha\": [0.0, 0.001, 0.002, 0.5, 0.1], \n",
    "    \"dec_tree__n_estimators\": [50,70,90,110,150, 200, 180, 220],\n",
    "    \"dec_tree__bootstrap\": [True, False]\n",
    "    #\"max_features\" : [1, 2, 3, 4, 5, 6]\n",
    "\n",
    "}\n",
    "\n",
    "\n",
    "grid = GridSearchCV(pipe, param_grid = param_dist, n_jobs = 20)\n",
    "\n",
    "grid.fit(x_train, y_train) \n",
    "x = sm.accuracy_score(y_test, grid.best_estimator_.predict(x_test))\n",
    "print(x)"
   ]
  },
  {
   "cell_type": "code",
   "execution_count": 188,
   "metadata": {},
   "outputs": [
    {
     "data": {
      "text/plain": [
       "<bound method Pipeline.get_params of Pipeline(steps=[('power', PowerTransformer()),\n",
       "                ('dec_tree',\n",
       "                 ExtraTreesClassifier(ccp_alpha=0.001, criterion='entropy',\n",
       "                                      n_estimators=70))])>"
      ]
     },
     "execution_count": 188,
     "metadata": {},
     "output_type": "execute_result"
    }
   ],
   "source": [
    "grid.best_estimator_.get_params"
   ]
  },
  {
   "cell_type": "code",
   "execution_count": 660,
   "metadata": {},
   "outputs": [
    {
     "name": "stderr",
     "output_type": "stream",
     "text": [
      "/Users/simonlee/opt/anaconda3/lib/python3.8/site-packages/sklearn/pipeline.py:335: DataConversionWarning: A column-vector y was passed when a 1d array was expected. Please change the shape of y to (n_samples,), for example using ravel().\n",
      "  self._final_estimator.fit(Xt, y, **fit_params_last_step)\n"
     ]
    },
    {
     "name": "stdout",
     "output_type": "stream",
     "text": [
      "0.6094594594594595\n"
     ]
    }
   ],
   "source": [
    "power = PowerTransformer()\n",
    "et = ExtraTreesClassifier(bootstrap = True, criterion = 'entropy', n_estimators = 70, ccp_alpha = 0.001)  \n",
    "\n",
    "pipe = Pipeline(steps=[ ('power', power), ('dec_tree', et)])\n",
    "mod = pipe.fit(x_train, y_train) \n",
    "\n",
    "x = sm.accuracy_score(y_test, mod.predict(x_test))\n",
    "print(x)"
   ]
  },
  {
   "cell_type": "markdown",
   "metadata": {},
   "source": [
    "## TAKING A LOOK AT FEATURE IMPORTANCE\n",
    "\n",
    "* Notice that importance is pretty evenly spread about\n",
    "* H NoBat and A NoBat both have very low importance however (possibly becase most times these columns are 0)"
   ]
  },
  {
   "cell_type": "code",
   "execution_count": 366,
   "metadata": {},
   "outputs": [
    {
     "data": {
      "text/plain": [
       "[['H Left hand Bat', 0.025958944176738243],\n",
       " ['A Left hand Bat', 0.027457550979079346],\n",
       " ['H NoBat', 0.002509848054779309],\n",
       " ['A NoBat', 0.0019546962782270427],\n",
       " ['H Right hand Bat', 0.02768334810012711],\n",
       " ['A Right hand Bat', 0.02706909424980162],\n",
       " ['H Left Arm Wrist Spinner', 0.0212644197969926],\n",
       " ['A Left Arm Wrist Spinner', 0.019604090295017085],\n",
       " ['H Right Arm Spinner', 0.02773589124458488],\n",
       " ['A Right Arm Spinner', 0.029326546687726086],\n",
       " ['H Left Arm Fast', 0.027211796020558867],\n",
       " ['A Left Arm Fast', 0.02646431980156704],\n",
       " ['H Right Arm Fast', 0.02848655268776771],\n",
       " ['A Right Arm Fast', 0.029160271699280343],\n",
       " ['H NoBowl', 0.030451775685782893],\n",
       " ['A NoBowl', 0.02747984848102697],\n",
       " ['H Left Arm Spinner', 0.02872455357538807],\n",
       " ['A Left Arm Spinner', 0.027475291208392746],\n",
       " ['H Right Arm Wrist Spinner', 0.028329357848901816],\n",
       " ['A Right Arm Wrist Spinner', 0.02596632726928667],\n",
       " ['H Top order Batter', 0.02933471321833043],\n",
       " ['A Top order Batter', 0.027893287452589715],\n",
       " ['H Bowling Allrounder', 0.0246871258956237],\n",
       " ['A Bowling Allrounder', 0.02516029784733791],\n",
       " ['H Wicketkeeper', 0.028397244280962658],\n",
       " ['A Wicketkeeper', 0.027787922241512372],\n",
       " ['H Allrounder', 0.02746351548292124],\n",
       " ['A Allrounder', 0.028161681626542874],\n",
       " ['H Batting Allrounder', 0.023045231075989568],\n",
       " ['A Batting Allrounder', 0.022984551937474035],\n",
       " ['H Batter', 0.026804974567800052],\n",
       " ['A Batter', 0.025758483692311842],\n",
       " ['H Middle order Batter', 0.028439309139852008],\n",
       " ['A Middle order Batter', 0.0278056197089584],\n",
       " ['H Opening Batter', 0.026387146287351143],\n",
       " ['A Opening Batter', 0.024839377549761843],\n",
       " ['H Bowler', 0.028209773214103697],\n",
       " ['A Bowler', 0.029153837789344942],\n",
       " ['Country', 0.027371382850204903]]"
      ]
     },
     "execution_count": 366,
     "metadata": {},
     "output_type": "execute_result"
    }
   ],
   "source": [
    "n_feats = []\n",
    "for i in range (0, len(feats)):\n",
    "    if pipe['dec_tree'].feature_importances_[i] > 0:\n",
    "        n_feats.append([feats[i], pipe['dec_tree'].feature_importances_[i]])\n",
    "\n",
    "n_feats"
   ]
  },
  {
   "cell_type": "code",
   "execution_count": 676,
   "metadata": {},
   "outputs": [
    {
     "data": {
      "text/plain": [
       "0.635561160151324"
      ]
     },
     "execution_count": 676,
     "metadata": {},
     "output_type": "execute_result"
    }
   ],
   "source": [
    "sm.confusion_matrix(y_test, mod.predict(x_test))[0][0]/(sm.confusion_matrix(y_test, mod.predict(x_test))[0][1]+ sm.confusion_matrix(y_test, mod.predict(x_test))[0][0])\n",
    "\n",
    "sm.confusion_matrix(y_test, mod.predict(x_test))[1][1]/(sm.confusion_matrix(y_test, mod.predict(x_test))[1][1]+ sm.confusion_matrix(y_test, mod.predict(x_test))[1][0])\n",
    "\n",
    "sm.f1_score(y_test, mod.predict(x_test))"
   ]
  },
  {
   "cell_type": "markdown",
   "metadata": {},
   "source": [
    "### Saving Model"
   ]
  },
  {
   "cell_type": "code",
   "execution_count": 661,
   "metadata": {},
   "outputs": [],
   "source": [
    "import pickle\n",
    "\n",
    "with open(\"model.pickle\", 'wb') as f:\n",
    "    pickle.dump(mod,f)"
   ]
  }
 ],
 "metadata": {
  "interpreter": {
   "hash": "358ac98aa52ea4466d7473ad96cfdfa51bad2f562409a00281e6acbb4f883285"
  },
  "kernelspec": {
   "display_name": "Python 3.8.3 64-bit ('base': conda)",
   "name": "python3"
  },
  "language_info": {
   "codemirror_mode": {
    "name": "ipython",
    "version": 3
   },
   "file_extension": ".py",
   "mimetype": "text/x-python",
   "name": "python",
   "nbconvert_exporter": "python",
   "pygments_lexer": "ipython3",
   "version": "3.8.3"
  }
 },
 "nbformat": 4,
 "nbformat_minor": 4
}
