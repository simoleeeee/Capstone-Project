{
 "cells": [
  {
   "cell_type": "markdown",
   "metadata": {},
   "source": [
    "## CAPSTONE PROJECT DATA CONSOLIDATION\n",
    "## AUTHOR: Simon Lee\n",
    "## DATE CREATED: June 17th 2022\n",
    "## LAST DATE ADJUSTED: June 17th 2022"
   ]
  },
  {
   "cell_type": "markdown",
   "metadata": {},
   "source": [
    "Importing Packages"
   ]
  },
  {
   "cell_type": "code",
   "execution_count": 3,
   "metadata": {},
   "outputs": [],
   "source": [
    "import pandas as pd\n",
    "import csv as csv\n",
    "import os as os\n",
    "from lxml import html\n",
    "import requests\n",
    "from bs4 import BeautifulSoup\n"
   ]
  },
  {
   "cell_type": "code",
   "execution_count": null,
   "metadata": {},
   "outputs": [],
   "source": [
    "cols = ['PlayerID', 'Full Name', 'Born', 'Age', 'Batting Style', 'Bowling Style', 'Playing Role']\n",
    "a = []\n",
    "for i in info:\n",
    "    for x in cols:\n",
    "        try:\n",
    "            a.append([i][0][0][x])\n",
    "        except:\n",
    "            a.append('')\n",
    "player_details = pd.DataFrame(data = data, columns = cols)"
   ]
  },
  {
   "cell_type": "markdown",
   "metadata": {},
   "source": [
    "Function to Scrape ESPN Cricinfo for player roles"
   ]
  },
  {
   "cell_type": "code",
   "execution_count": 267,
   "metadata": {},
   "outputs": [
    {
     "name": "stdout",
     "output_type": "stream",
     "text": [
      "[[670035, 'Brandon Alexander King', 'December 16, 1994, Kingston, Jamaica', '27y 210d', 'Right hand Bat', '', 'Top order Batter']]\n"
     ]
    }
   ],
   "source": [
    "apiPlStatsUrl = \"https://www.espncricinfo.com/player/kemar-roach-{pid}\"\n",
    "def getData(pid):\n",
    "    meta = {'PlayerID':pid}\n",
    "    page = requests.get(apiPlStatsUrl.format(pid=pid))\n",
    "    html = BeautifulSoup(page.text, 'html.parser')\n",
    "    cols = ['PlayerID', 'Full Name', 'Born', 'Age', 'Batting Style', 'Bowling Style', 'Playing Role']\n",
    "    a = []\n",
    "\n",
    "    for i in range (0, len(html.findAll('p', 'ds-text-tight-m ds-font-regular ds-uppercase ds-text-ui-typo-mid'))):\n",
    "        meta[html.findAll('p', 'ds-text-tight-m ds-font-regular ds-uppercase ds-text-ui-typo-mid')[i].text] = html.findAll('span', 'ds-text-title-s ds-font-bold ds-text-ui-typo')[i].text\n",
    "\n",
    "    \n",
    "    for x in cols:\n",
    "        try:\n",
    "            a.append(meta[x])\n",
    "        except:\n",
    "            a.append('')\n",
    "        \n",
    "    return [a]\n",
    "\n"
   ]
  },
  {
   "cell_type": "code",
   "execution_count": 268,
   "metadata": {},
   "outputs": [
    {
     "name": "stdout",
     "output_type": "stream",
     "text": [
      "[[670035, 'Brandon Alexander King', 'December 16, 1994, Kingston, Jamaica', '27y 210d', 'Right hand Bat', '', 'Top order Batter']]\n"
     ]
    }
   ],
   "source": [
    "print(getData(670035))"
   ]
  },
  {
   "cell_type": "markdown",
   "metadata": {},
   "source": [
    "Reading in all ball by ball data and people list"
   ]
  },
  {
   "cell_type": "code",
   "execution_count": 5,
   "metadata": {},
   "outputs": [],
   "source": [
    "ball = pd.read_csv(r\"/Users/simonlee/Desktop/Capstone/Ball by Ball Data.csv\")\n",
    "people = pd.read_csv(r\"/Users/simonlee/Desktop/Capstone/Data/people.csv\")"
   ]
  },
  {
   "cell_type": "code",
   "execution_count": 6,
   "metadata": {},
   "outputs": [],
   "source": [
    "df1 = ball.groupby(['Striker ID', 'Striker']).size().reset_index().rename(columns = {0:'count', 'Striker': 'Player', 'Striker ID': 'ID'}).drop(\"count\", axis = 1)\n",
    "df2 = ball.groupby(['Bowler ID', 'Bowler']).size().reset_index().rename(columns = {0:'count', 'Bowler': 'Player', 'Bowler ID':'ID'}).drop(\"count\", axis = 1)\n",
    "all_players =pd.concat([df1, df2])\n",
    "unique_players = pd.DataFrame(data = all_players['ID'].unique(), columns= ['ID'])\n"
   ]
  },
  {
   "cell_type": "code",
   "execution_count": 7,
   "metadata": {},
   "outputs": [],
   "source": [
    "##Getting all the people with cricinfo IDs\n",
    "ids = unique_players.merge(people, how = 'left', left_on='ID', right_on='identifier').drop(['unique_name', 'key_bigbash',\n",
    "       'key_cricbuzz', 'key_crichq', 'key_cricinfo_2',\n",
    "       'key_cricingif', 'key_cricketarchive', 'key_cricketarchive_2',\n",
    "       'key_opta', 'key_opta_2', 'key_pulse', 'key_pulse_2'], axis = 1)\n",
    "int_id = []\n",
    "no_id = []\n",
    "for i in ids['key_cricinfo']:\n",
    "    if i > 0:\n",
    "        int_id.append(int(i))\n",
    "    else:\n",
    "        int_id.append(0)\n",
    "    \n",
    "ids['key_cricinfo'] = int_id\n",
    "\n",
    "id = ids[ids['key_cricinfo'] > 0]"
   ]
  },
  {
   "cell_type": "code",
   "execution_count": 10,
   "metadata": {},
   "outputs": [
    {
     "data": {
      "text/html": [
       "<div>\n",
       "<style scoped>\n",
       "    .dataframe tbody tr th:only-of-type {\n",
       "        vertical-align: middle;\n",
       "    }\n",
       "\n",
       "    .dataframe tbody tr th {\n",
       "        vertical-align: top;\n",
       "    }\n",
       "\n",
       "    .dataframe thead th {\n",
       "        text-align: right;\n",
       "    }\n",
       "</style>\n",
       "<table border=\"1\" class=\"dataframe\">\n",
       "  <thead>\n",
       "    <tr style=\"text-align: right;\">\n",
       "      <th></th>\n",
       "      <th>ID</th>\n",
       "      <th>identifier</th>\n",
       "      <th>name</th>\n",
       "      <th>key_cricinfo</th>\n",
       "    </tr>\n",
       "  </thead>\n",
       "  <tbody>\n",
       "    <tr>\n",
       "      <th>564</th>\n",
       "      <td>2498e163</td>\n",
       "      <td>2498e163</td>\n",
       "      <td>JR Hopes</td>\n",
       "      <td>5702</td>\n",
       "    </tr>\n",
       "  </tbody>\n",
       "</table>\n",
       "</div>"
      ],
      "text/plain": [
       "           ID identifier      name  key_cricinfo\n",
       "564  2498e163   2498e163  JR Hopes          5702"
      ]
     },
     "execution_count": 10,
     "metadata": {},
     "output_type": "execute_result"
    }
   ],
   "source": [
    "ids[ids[\"ID\"] == '2498e163']"
   ]
  },
  {
   "cell_type": "code",
   "execution_count": null,
   "metadata": {},
   "outputs": [],
   "source": [
    "##Getting all player roles using the getData function\n",
    "info = []\n",
    "count = 0\n",
    "for i in id['key_cricinfo']:\n",
    "    count = count + 1\n",
    "    if count%50 ==0:\n",
    "        info.append(getData(i))\n",
    "        print(count)\n",
    "    else:\n",
    "        info.append(getData(i))\n"
   ]
  },
  {
   "cell_type": "code",
   "execution_count": 306,
   "metadata": {},
   "outputs": [],
   "source": [
    "\n",
    "info2 = []\n",
    "for i in info:\n",
    "    info2.append(i[0])\n",
    "\n",
    "\n",
    "roles = pd.DataFrame(data = info2, columns = ['PlayerID', 'Full Name', 'Born', 'Age', 'Batting Style', 'Bowling Style', 'Playing Role'])\n",
    "roles.to_csv(r\"/Users/simonlee/Desktop/Capstone/Data/roles.csv\")"
   ]
  },
  {
   "cell_type": "code",
   "execution_count": null,
   "metadata": {},
   "outputs": [],
   "source": [
    "#Getting info for players that were left out once the code shut down\n",
    "\n",
    "leftovers = []\n",
    "count = 0\n",
    "for i in id['key_cricinfo']:\n",
    "    print(i)\n",
    "    if i in list(roles['PlayerID']) or i == 35320:\n",
    "        print(\"already there\")\n",
    "    else:\n",
    "        leftovers.append(getData(i)[0])\n",
    "        count = count +1 \n",
    "        print (count)"
   ]
  },
  {
   "cell_type": "code",
   "execution_count": 336,
   "metadata": {},
   "outputs": [],
   "source": [
    "#Joinging The inital run of the web scrape and the players that were not included in the first run\n",
    "df6 = pd.DataFrame(data = leftovers, columns = ['PlayerID', 'Full Name', 'Born', 'Age', 'Batting Style', 'Bowling Style', 'Playing Role'])\n",
    "df7 = pd.concat([df6, roles])"
   ]
  },
  {
   "cell_type": "code",
   "execution_count": 2,
   "metadata": {},
   "outputs": [
    {
     "ename": "NameError",
     "evalue": "name 'df7' is not defined",
     "output_type": "error",
     "traceback": [
      "\u001b[0;31m---------------------------------------------------------------------------\u001b[0m",
      "\u001b[0;31mNameError\u001b[0m                                 Traceback (most recent call last)",
      "\u001b[0;32m<ipython-input-2-e9605370597d>\u001b[0m in \u001b[0;36m<module>\u001b[0;34m\u001b[0m\n\u001b[0;32m----> 1\u001b[0;31m \u001b[0mdf7\u001b[0m\u001b[0;34m.\u001b[0m\u001b[0mto_csv\u001b[0m\u001b[0;34m(\u001b[0m\u001b[0;34mr\"/Users/simonlee/Desktop/Capstone/Data/roles.csv\"\u001b[0m\u001b[0;34m,\u001b[0m \u001b[0mindex\u001b[0m \u001b[0;34m=\u001b[0m \u001b[0;36m0\u001b[0m\u001b[0;34m)\u001b[0m\u001b[0;34m\u001b[0m\u001b[0;34m\u001b[0m\u001b[0m\n\u001b[0m",
      "\u001b[0;31mNameError\u001b[0m: name 'df7' is not defined"
     ]
    }
   ],
   "source": [
    "df7.to_csv(r\"/Users/simonlee/Desktop/Capstone/Data/roles.csv\", index = 0)"
   ]
  },
  {
   "cell_type": "code",
   "execution_count": null,
   "metadata": {},
   "outputs": [],
   "source": []
  },
  {
   "cell_type": "code",
   "execution_count": null,
   "metadata": {},
   "outputs": [],
   "source": []
  }
 ],
 "metadata": {
  "interpreter": {
   "hash": "358ac98aa52ea4466d7473ad96cfdfa51bad2f562409a00281e6acbb4f883285"
  },
  "kernelspec": {
   "display_name": "Python 3.8.3 64-bit ('base': conda)",
   "name": "python3"
  },
  "language_info": {
   "codemirror_mode": {
    "name": "ipython",
    "version": 3
   },
   "file_extension": ".py",
   "mimetype": "text/x-python",
   "name": "python",
   "nbconvert_exporter": "python",
   "pygments_lexer": "ipython3",
   "version": "3.8.3"
  }
 },
 "nbformat": 4,
 "nbformat_minor": 4
}
